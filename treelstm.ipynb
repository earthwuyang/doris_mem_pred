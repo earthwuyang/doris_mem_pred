{
 "cells": [
  {
   "cell_type": "code",
   "execution_count": 1,
   "metadata": {},
   "outputs": [
    {
     "name": "stdout",
     "output_type": "stream",
     "text": [
      "Debug tree:\n",
      "NodeId#164_[5, 0.0, 0, 0]_0\n",
      "   NodeId#161_[0, 0.0, 22, 0]_1\n",
      "      NodeId#158_[4, 0.0, 0, 0]_2\n",
      "         NodeId#155_[2, 0.0, 0, 0]_3\n",
      "            NodeId#152_[4, 0.0, 0, 0]_4\n",
      "               NodeId#149_[0, 0.0, 1, 0]_5\n",
      "                  NodeId#-1_[19, 0.0, 0, 0]_6\n"
     ]
    },
    {
     "name": "stderr",
     "output_type": "stream",
     "text": [
      "Using backend: pytorch\n"
     ]
    },
    {
     "name": "stdout",
     "output_type": "stream",
     "text": [
      "NodeId#164_[5, 0.0, 0, 0]_0\n",
      "   NodeId#161_[0, 0.0, 22, 0]_1\n",
      "      NodeId#158_[4, 0.0, 0, 0]_2\n",
      "         NodeId#155_[2, 0.0, 0, 0]_3\n",
      "            NodeId#152_[4, 0.0, 0, 0]_4\n",
      "               NodeId#149_[0, 0.0, 1, 0]_5\n",
      "                  NodeId#-1_[19, 0.0, 0, 0]_6\n",
      "Graph(num_nodes=7, num_edges=6,\n",
      "      ndata_schemes={'feat': Scheme(shape=(4,), dtype=torch.float32)}\n",
      "      edata_schemes={})\n",
      "(tensor([1, 2, 3, 4, 5, 6]), tensor([0, 1, 2, 3, 4, 5]))\n"
     ]
    }
   ],
   "source": [
    "from my_parse_v2 import parse_tree, input_str\n",
    "import dgl\n",
    "from dgl.data import DGLDataset\n",
    "import torch\n",
    "\n",
    "\n",
    "# class PlanDataset(DGLDataset):\n",
    "#     def __init__(self):\n",
    "#         super().__init__(name='plan')\n",
    "\n",
    "\n",
    "#     def process(self):\n",
    "#         pass\n",
    "\n",
    "#     def __getitem__(self, i):\n",
    "#         return self.graphs[i], self.labels[i]\n",
    "    \n",
    "#     def __len__(self):\n",
    "#         return len(self.graphs)\n",
    "\n",
    "\n",
    "root_node, edge_src_nodes, edge_tgt_nodes, features_list = parse_tree(input_str)\n",
    "\n",
    "\n",
    "root_node.print_tree()\n",
    "\n",
    "# print(edge_src_nodes, edge_tgt_nodes)\n",
    "g=dgl.graph((edge_src_nodes, edge_tgt_nodes))\n",
    "g.ndata['feat'] = torch.tensor(features_list)\n",
    "print(g)\n",
    "print(g.edges())"
   ]
  },
  {
   "cell_type": "code",
   "execution_count": 2,
   "metadata": {},
   "outputs": [
    {
     "name": "stderr",
     "output_type": "stream",
     "text": [
      "/home/wuy/software/envs/zsce/lib/python3.8/site-packages/dgl/base.py:45: DGLWarning: The input graph for the user-defined edge function does not contain valid edges\n",
      "  return warnings.warn(message, category=category, stacklevel=1)\n"
     ]
    }
   ],
   "source": [
    "from TreeLSTM import PlanNet\n",
    "\n",
    "x_size = 4\n",
    "h_size = 4\n",
    "dropout = 0.5\n",
    "model = PlanNet(x_size, h_size, dropout)\n",
    "\n",
    "n=g.num_nodes()\n",
    "h = torch.zeros((n,h_size))\n",
    "c = torch.zeros(n,h_size)\n",
    "cost = torch.tensor([2.0])\n",
    "output = model(g, g.ndata['feat'], h, c, cost)"
   ]
  },
  {
   "cell_type": "code",
   "execution_count": 3,
   "metadata": {},
   "outputs": [
    {
     "data": {
      "text/plain": [
       "tensor([-0.6949], grad_fn=<ViewBackward0>)"
      ]
     },
     "execution_count": 3,
     "metadata": {},
     "output_type": "execute_result"
    }
   ],
   "source": [
    "output"
   ]
  }
 ],
 "metadata": {
  "kernelspec": {
   "display_name": "zsce",
   "language": "python",
   "name": "python3"
  },
  "language_info": {
   "codemirror_mode": {
    "name": "ipython",
    "version": 3
   },
   "file_extension": ".py",
   "mimetype": "text/x-python",
   "name": "python",
   "nbconvert_exporter": "python",
   "pygments_lexer": "ipython3",
   "version": "3.8.18"
  }
 },
 "nbformat": 4,
 "nbformat_minor": 2
}
