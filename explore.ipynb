{
 "cells": [
  {
   "cell_type": "code",
   "execution_count": 1,
   "metadata": {},
   "outputs": [],
   "source": [
    "import pymysql\n",
    "import pandas as pd\n",
    "doris_host='101.6.5.211'\n",
    "doris_port =9030\n",
    "doris_user='root'\n",
    "doris_password=''\n",
    "doris_db='tpch_sf100'\n"
   ]
  },
  {
   "cell_type": "code",
   "execution_count": 8,
   "metadata": {},
   "outputs": [],
   "source": [
    "conn=pymysql.connect(host=doris_host,port=doris_port, user=doris_user, passwd=doris_password, db=doris_db)\n",
    "# query=\"explain optimized plan select c_nationkey, count(*) from customer group by c_nationkey;\"\n",
    "# query=\"show column stats lineitem(l_tax);\"\n",
    "query = \"explain optimized plan select c_custkey, o_custkey from customer join orders on c_custkey = o_custkey where c_custkey < 10;\""
   ]
  },
  {
   "cell_type": "code",
   "execution_count": 10,
   "metadata": {},
   "outputs": [],
   "source": [
    "q1 = \"\"\"\n",
    "select\n",
    "    l_returnflag,\n",
    "    l_linestatus,\n",
    "    sum(l_quantity) as sum_qty,\n",
    "    sum(l_extendedprice) as sum_base_price,\n",
    "    sum(l_extendedprice * (1 - l_discount)) as sum_disc_price,\n",
    "    sum(l_extendedprice * (1 - l_discount) * (1 + l_tax)) as sum_charge,\n",
    "    avg(l_quantity) as avg_qty,\n",
    "    avg(l_extendedprice) as avg_price,\n",
    "    avg(l_discount) as avg_disc,\n",
    "    count(*) as count_order\n",
    "from\n",
    "    lineitem\n",
    "where\n",
    "    l_shipdate <= date '1998-12-01' - interval '90' day\n",
    "group by\n",
    "    l_returnflag,\n",
    "    l_linestatus\n",
    "order by\n",
    "    l_returnflag,\n",
    "    l_linestatus;\n",
    "\"\"\"\n",
    "query = \"explain optimized plan\" + query"
   ]
  },
  {
   "cell_type": "code",
   "execution_count": 12,
   "metadata": {},
   "outputs": [],
   "source": [
    "q2 = \"\"\"\n",
    "select\n",
    "    s_acctbal,\n",
    "    s_name,\n",
    "    n_name,\n",
    "    p_partkey,\n",
    "    p_mfgr,\n",
    "    s_address,\n",
    "    s_phone,\n",
    "    s_comment\n",
    "from\n",
    "    part,\n",
    "    supplier,\n",
    "    partsupp,\n",
    "    nation,\n",
    "    region\n",
    "where\n",
    "    p_partkey = ps_partkey\n",
    "    and s_suppkey = ps_suppkey\n",
    "    and p_size = 15\n",
    "    and p_type like '%BRASS'\n",
    "    and s_nationkey = n_nationkey\n",
    "    and n_regionkey = r_regionkey\n",
    "    and r_name = 'EUROPE'\n",
    "    and ps_supplycost = (\n",
    "        select\n",
    "            min(ps_supplycost)\n",
    "        from\n",
    "            partsupp,\n",
    "            supplier,\n",
    "            nation,\n",
    "            region\n",
    "        where\n",
    "        p_partkey = ps_partkey\n",
    "        and s_suppkey = ps_suppkey\n",
    "        and s_nationkey = n_nationkey\n",
    "        and n_regionkey = r_regionkey\n",
    "        and r_name = 'EUROPE'\n",
    ")\n",
    "order by\n",
    "    s_acctbal desc,\n",
    "    n_name,\n",
    "    s_name,\n",
    "    p_partkey\n",
    "\"\"\"\n",
    "query = \"explain optimized plan\" + q2"
   ]
  },
  {
   "cell_type": "code",
   "execution_count": 13,
   "metadata": {},
   "outputs": [
    {
     "name": "stderr",
     "output_type": "stream",
     "text": [
      "/tmp/ipykernel_2960448/3660904836.py:1: UserWarning: pandas only supports SQLAlchemy connectable (engine/connection) or database string URI or sqlite3 DBAPI2 connection. Other DBAPI2 objects are not tested. Please consider using SQLAlchemy.\n",
      "  df=pd.read_sql_query(query, conn)\n"
     ]
    },
    {
     "name": "stdout",
     "output_type": "stream",
     "text": [
      "                      Explain String(Nereids Planner)\n",
      "0                         cost = 1.8395694842674473E8\n",
      "1   PhysicalResultSink[3628] ( outputExprs=[s_acct...\n",
      "2   +--PhysicalQuickSort[3625]@22 ( orderKeys=[s_a...\n",
      "3      +--PhysicalDistribute[3622]@24 ( distributi...\n",
      "4         +--PhysicalQuickSort[3619]@24 ( orderKey...\n",
      "5            +--PhysicalProject[3616]@21 ( project...\n",
      "6               +--PhysicalFilter[3613]@20 ( predi...\n",
      "7                  +--PhysicalWindow[3610]@19 ( wi...\n",
      "8                     +--PhysicalQuickSort[3607]@1...\n",
      "9                        +--PhysicalDistribute[360...\n",
      "10                          +--PhysicalProject[360...\n",
      "11                             +--PhysicalHashJoin...\n",
      "12                                |--PhysicalDistr...\n",
      "13                                |  +--PhysicalPr...\n",
      "14                                |     +--Physica...\n",
      "15                                |        |--Phys...\n",
      "16                                |        |  +--P...\n",
      "17                                |        +--Phys...\n",
      "18                                |           +--P...\n",
      "19                                |              +...\n",
      "20                                +--PhysicalDistr...\n",
      "21                                   +--PhysicalPr...\n",
      "22                                      +--Physica...\n",
      "23                                         |--Phys...\n",
      "24                                         +--Phys...\n",
      "25                                            +--P...\n",
      "26                                               |...\n",
      "27                                               |...\n",
      "28                                               +...\n",
      "29                                                ...\n",
      "30                                                ...\n",
      "31                                                ...\n"
     ]
    }
   ],
   "source": [
    "df=pd.read_sql_query(query, conn)\n",
    "print(df)"
   ]
  },
  {
   "cell_type": "code",
   "execution_count": 14,
   "metadata": {},
   "outputs": [
    {
     "name": "stdout",
     "output_type": "stream",
     "text": [
      "cost = 1.8395694842674473E8\n",
      "PhysicalResultSink[3628] ( outputExprs=[s_acctbal#14, s_name#10, n_name#22, p_partkey#0, p_mfgr#2, s_address#11, s_phone#13, s_comment#15] )\n",
      "+--PhysicalQuickSort[3625]@22 ( orderKeys=[s_acctbal#14 desc, n_name#22 asc null first, s_name#10 asc null first, p_partkey#0 asc null first], phase=MERGE_SORT, stats=1 1 )\n",
      "   +--PhysicalDistribute[3622]@24 ( distributionSpec=DistributionSpecGather, stats=1 1 )\n",
      "      +--PhysicalQuickSort[3619]@24 ( orderKeys=[s_acctbal#14 desc, n_name#22 asc null first, s_name#10 asc null first, p_partkey#0 asc null first], phase=LOCAL_SORT, stats=1 1 )\n",
      "         +--PhysicalProject[3616]@21 ( projects=[s_acctbal#14, s_name#10, n_name#22, p_partkey#0, p_mfgr#2, s_address#11, s_phone#13, s_comment#15], stats=1 1 )\n",
      "            +--PhysicalFilter[3613]@20 ( predicates=(ps_supplycost#19 = min(ps_supplycost) OVER(PARTITION BY p_partkey)#48), stats=1 1 )\n",
      "               +--PhysicalWindow[3610]@19 ( windowFrameGroup=(Funcs=[min(ps_supplycost#19) WindowSpec(PARTITION BY p_partkey#0 RANGE BETWEEN UNBOUNDED_PRECEDING AND CURRENT_ROW) AS `min(ps_supplycost) OVER(PARTITION BY p_partkey RANGE BETWEEN UNBOUNDED_PRECEDING AND CURRENT_ROW)`#48], PartitionKeys=[p_partkey#0], OrderKeys=[], WindowFrame=WindowFrame(RANGE, UNBOUNDED_PRECEDING, CURRENT_ROW)), requiredProperties=[DistributionSpecHash ( orderedShuffledColumns=[0], shuffleType=REQUIRE, tableId=-1, selectedIndexId=-1, partitionIds=[], equivalenceExprIds=[[0]], exprIdToEquivalenceSet={0=0} ) Order: ([p_partkey#0 asc])], stats=79,882.21 1 )\n",
      "                  +--PhysicalQuickSort[3607]@18 ( orderKeys=[p_partkey#0 asc], phase=LOCAL_SORT, stats=79,882.21 5 )\n",
      "                     +--PhysicalDistribute[3604]@18 ( distributionSpec=DistributionSpecHash ( orderedShuffledColumns=[0], shuffleType=EXECUTION_BUCKETED, tableId=-1, selectedIndexId=-1, partitionIds=[], equivalenceExprIds=[[0]], exprIdToEquivalenceSet={0=0} ), stats=79,882.21 5 )\n",
      "                        +--PhysicalProject[3601]@18 ( projects=[p_partkey#0, p_mfgr#2, ps_supplycost#19, n_name#22, s_name#10, s_address#11, s_phone#13, s_acctbal#14, s_comment#15], stats=79,882.21 5 )\n",
      "                           +--PhysicalHashJoin[3598]@36 ( type=INNER_JOIN, stats=79,882.21 5, hashCondition=[(s_suppkey#9 = ps_suppkey#17)], otherCondition=[], runtimeFilters=[RF3[s_suppkey#9->[ps_suppkey#17](ndv/size = 250000/262144) ] )\n",
      "                              |--PhysicalDistribute[3565]@6 ( distributionSpec=DistributionSpecHash ( orderedShuffledColumns=[17], shuffleType=EXECUTION_BUCKETED, tableId=-1, selectedIndexId=-1, partitionIds=[], equivalenceExprIds=[[17]], exprIdToEquivalenceSet={17=0} ), stats=319,193 2 )\n",
      "                              |  +--PhysicalProject[3562]@6 ( projects=[p_partkey#0, ps_suppkey#17, p_mfgr#2, ps_supplycost#19], stats=319,193 2 )\n",
      "                              |     +--PhysicalHashJoin[3559]@5 ( type=INNER_JOIN, stats=319,193 2, hashCondition=[(p_partkey#0 = ps_partkey#16)], otherCondition=[], runtimeFilters=[RF2[p_partkey#0->[ps_partkey#16](ndv/size = 80000/131072) ] )\n",
      "                              |        |--PhysicalProject[3549]@4 ( projects=[ps_partkey#16, ps_suppkey#17, ps_supplycost#19], stats=80,000,000 1 )\n",
      "                              |        |  +--PhysicalOlapScan[2]@3 ( qualified=tpch_sf100.partsupp, stats=80,000,000 1, fr=Optional[3] )\n",
      "                              |        +--PhysicalProject[3556]@2 ( projects=[p_partkey#0, p_mfgr#2], stats=80,000 1 )\n",
      "                              |           +--PhysicalFilter[3553]@1 ( predicates=((p_size#5 = 15) AND (p_type#4 like '%BRASS')), stats=80,000 1 )\n",
      "                              |              +--PhysicalOlapScan[0]@0 ( qualified=tpch_sf100.part, stats=20,000,000 1, fr=Optional[3] )\n",
      "                              +--PhysicalDistribute[3595]@35 ( distributionSpec=DistributionSpecHash ( orderedShuffledColumns=[9], shuffleType=EXECUTION_BUCKETED, tableId=85862, selectedIndexId=85863, partitionIds=[85861], equivalenceExprIds=[[9]], exprIdToEquivalenceSet={9=0} ), stats=250,000 3 )\n",
      "                                 +--PhysicalProject[3592]@35 ( projects=[s_suppkey#9, s_name#10, s_address#11, s_phone#13, s_acctbal#14, s_comment#15, n_name#22, n_regionkey#23, r_regionkey#25], stats=250,000 3 )\n",
      "                                    +--PhysicalHashJoin[3589]@34 ( type=INNER_JOIN, stats=250,000 3, hashCondition=[(s_nationkey#12 = n_nationkey#21)], otherCondition=[], runtimeFilters=[RF1[n_nationkey#21->[s_nationkey#12](ndv/size = 6/8) ] )\n",
      "                                       |--PhysicalOlapScan[1]@7 ( qualified=tpch_sf100.supplier, stats=1,000,000 1, fr=Optional[4] )\n",
      "                                       +--PhysicalDistribute[3586]@32 ( distributionSpec=DistributionSpecReplicated, stats=6.25 2 )\n",
      "                                          +--PhysicalHashJoin[3583]@32 ( type=INNER_JOIN, stats=6.25 2, hashCondition=[(n_regionkey#23 = r_regionkey#25)], otherCondition=[], runtimeFilters=[RF0[r_regionkey#25->[n_regionkey#23](ndv/size = 1/1) ] )\n",
      "                                             |--PhysicalProject[3570]@11 ( projects=[n_nationkey#21, n_name#22, n_regionkey#23], stats=25 1 )\n",
      "                                             |  +--PhysicalOlapScan[3]@10 ( qualified=tpch_sf100.nation, stats=25 1, fr=Optional[5] )\n",
      "                                             +--PhysicalDistribute[3580]@16 ( distributionSpec=DistributionSpecReplicated, stats=1 1 )\n",
      "                                                +--PhysicalProject[3577]@16 ( projects=[r_regionkey#25], stats=1 1 )\n",
      "                                                   +--PhysicalFilter[3574]@15 ( predicates=(r_name#26 = 'EUROPE'), stats=1 1 )\n",
      "                                                      +--PhysicalOlapScan[4]@14 ( qualified=tpch_sf100.region, stats=5 1, fr=Optional[6] )\n"
     ]
    }
   ],
   "source": [
    "for i in range(len(df)):\n",
    "    print(df.iloc[i].item())"
   ]
  },
  {
   "cell_type": "code",
   "execution_count": 11,
   "metadata": {},
   "outputs": [
    {
     "name": "stdout",
     "output_type": "stream",
     "text": [
      "(('cost = 4.500005325E7',), ('PhysicalResultSink[138] ( outputExprs=[c_nationkey#3, __count_1#8] )',), ('+--PhysicalDistribute[135]@2 ( distributionSpec=DistributionSpecGather, stats=25 1 )',), ('   +--PhysicalHashAggregate[132]@2 ( aggPhase=GLOBAL, aggMode=BUFFER_TO_RESULT, maybeUseStreaming=false, groupByExpr=[c_nationkey#3], outputExpr=[c_nationkey#3, count(partial_count(*)#9) AS `count(*)`#8], partitionExpr=Optional[[c_nationkey#3]], requireProperties=[DistributionSpecHash ( orderedShuffledColumns=[3], shuffleType=REQUIRE, tableId=-1, selectedIndexId=-1, partitionIds=[], equivalenceExprIds=[[3]], exprIdToEquivalenceSet={3=0} ) Order: ([])], stats=25 1 )',), ('      +--PhysicalDistribute[129]@4 ( distributionSpec=DistributionSpecHash ( orderedShuffledColumns=[3], shuffleType=EXECUTION_BUCKETED, tableId=-1, selectedIndexId=-1, partitionIds=[], equivalenceExprIds=[[3]], exprIdToEquivalenceSet={3=0} ), stats=25 1 )',), ('         +--PhysicalHashAggregate[126]@4 ( aggPhase=LOCAL, aggMode=INPUT_TO_BUFFER, maybeUseStreaming=true, groupByExpr=[c_nationkey#3], outputExpr=[c_nationkey#3, partial_count(*) AS `partial_count(*)`#9], partitionExpr=Optional[[c_nationkey#3]], requireProperties=[ANY], stats=25 1 )',), ('            +--PhysicalProject[123]@1 ( projects=[c_nationkey#3], stats=15,000,000 1 )',), ('               +--PhysicalOlapScan[0]@0 ( qualified=tpch_sf100.customer, stats=15,000,000 1, fr=Optional[2] )',))\n",
      "\n",
      "cost = 4.500005325E7\n",
      "PhysicalResultSink[138] ( outputExprs=[c_nationkey#3, __count_1#8] )\n",
      "+--PhysicalDistribute[135]@2 ( distributionSpec=DistributionSpecGather, stats=25 1 )\n",
      "   +--PhysicalHashAggregate[132]@2 ( aggPhase=GLOBAL, aggMode=BUFFER_TO_RESULT, maybeUseStreaming=false, groupByExpr=[c_nationkey#3], outputExpr=[c_nationkey#3, count(partial_count(*)#9) AS `count(*)`#8], partitionExpr=Optional[[c_nationkey#3]], requireProperties=[DistributionSpecHash ( orderedShuffledColumns=[3], shuffleType=REQUIRE, tableId=-1, selectedIndexId=-1, partitionIds=[], equivalenceExprIds=[[3]], exprIdToEquivalenceSet={3=0} ) Order: ([])], stats=25 1 )\n",
      "      +--PhysicalDistribute[129]@4 ( distributionSpec=DistributionSpecHash ( orderedShuffledColumns=[3], shuffleType=EXECUTION_BUCKETED, tableId=-1, selectedIndexId=-1, partitionIds=[], equivalenceExprIds=[[3]], exprIdToEquivalenceSet={3=0} ), stats=25 1 )\n",
      "         +--PhysicalHashAggregate[126]@4 ( aggPhase=LOCAL, aggMode=INPUT_TO_BUFFER, maybeUseStreaming=true, groupByExpr=[c_nationkey#3], outputExpr=[c_nationkey#3, partial_count(*) AS `partial_count(*)`#9], partitionExpr=Optional[[c_nationkey#3]], requireProperties=[ANY], stats=25 1 )\n",
      "            +--PhysicalProject[123]@1 ( projects=[c_nationkey#3], stats=15,000,000 1 )\n",
      "               +--PhysicalOlapScan[0]@0 ( qualified=tpch_sf100.customer, stats=15,000,000 1, fr=Optional[2] )\n"
     ]
    }
   ],
   "source": [
    "cursor=conn.cursor()\n",
    "cursor.execute(query)\n",
    "rows = cursor.fetchall()\n",
    "print(rows)\n",
    "plan=\"\"\n",
    "for row in rows:\n",
    "    plan+='\\n' + row[0]\n",
    "print(plan)"
   ]
  },
  {
   "cell_type": "code",
   "execution_count": null,
   "metadata": {},
   "outputs": [],
   "source": []
  }
 ],
 "metadata": {
  "kernelspec": {
   "display_name": "Python 3",
   "language": "python",
   "name": "python3"
  },
  "language_info": {
   "codemirror_mode": {
    "name": "ipython",
    "version": 3
   },
   "file_extension": ".py",
   "mimetype": "text/x-python",
   "name": "python",
   "nbconvert_exporter": "python",
   "pygments_lexer": "ipython3",
   "version": "3.8.18"
  }
 },
 "nbformat": 4,
 "nbformat_minor": 2
}
